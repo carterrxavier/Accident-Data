{
 "cells": [
  {
   "cell_type": "code",
   "execution_count": 1,
   "id": "37d40f61-4091-4094-90ac-b8e26f1ddc5f",
   "metadata": {},
   "outputs": [],
   "source": [
    "import pandas as pd\n",
    "import numpy as np\n",
    "import re\n",
    "import requests \n",
    "from selenium import webdriver\n",
    "from selenium.webdriver.common.keys import Keys\n",
    "from selenium.common.exceptions import TimeoutException\n",
    "from selenium.webdriver.common.by import By\n",
    "import selenium.webdriver.support.ui as ui\n",
    "import selenium.webdriver.support.expected_conditions as EC\n",
    "import os\n",
    "import time\n",
    "import datetime"
   ]
  },
  {
   "cell_type": "code",
   "execution_count": 71,
   "id": "5135f6ef-334f-437a-903c-7aa2a682d77e",
   "metadata": {},
   "outputs": [],
   "source": [
    "options = webdriver.ChromeOptions()\n",
    "options.add_argument('--ignore-certificate-errors')\n",
    "options.add_argument('--ignore-ssl-errors')\n",
    "dir_path = os.path.dirname(os.path.realpath('chromedriver'))\n",
    "chromedriver = dir_path + '/chromedriver'\n",
    "os.environ['webdriver.chrome.driver'] = chromedriver"
   ]
  },
  {
   "cell_type": "code",
   "execution_count": 72,
   "id": "93610e57-9aae-4a49-9b75-3a7f2d957cdc",
   "metadata": {},
   "outputs": [],
   "source": [
    "links = pd.read_csv('accident_links.csv')"
   ]
  },
  {
   "cell_type": "code",
   "execution_count": 73,
   "id": "35ca10cf-0612-4281-85ef-5205ce5ae7f5",
   "metadata": {},
   "outputs": [],
   "source": [
    "driver = webdriver.Chrome(executable_path=chromedriver)"
   ]
  },
  {
   "cell_type": "code",
   "execution_count": 74,
   "id": "1bb76e5a-9384-41be-9a36-2524061b43a0",
   "metadata": {},
   "outputs": [
    {
     "data": {
      "text/plain": [
       "'https://app.myaccident.org/accident/00000117157155'"
      ]
     },
     "execution_count": 74,
     "metadata": {},
     "output_type": "execute_result"
    }
   ],
   "source": [
    "url = links.link[9]\n",
    "url\n"
   ]
  },
  {
   "cell_type": "code",
   "execution_count": 75,
   "id": "743dad5f-9dea-4351-8a04-9319082e3acc",
   "metadata": {},
   "outputs": [],
   "source": [
    "list_of_dicts = []"
   ]
  },
  {
   "cell_type": "code",
   "execution_count": 76,
   "id": "9f185366-47a1-440e-90cf-0efd3c656212",
   "metadata": {},
   "outputs": [
    {
     "data": {
      "text/plain": [
       "[<selenium.webdriver.remote.webelement.WebElement (session=\"b85261d49c21c44d0108b6f9bf9355fb\", element=\"7fb5373d-bf47-4733-8737-5e4c47274236\")>]"
      ]
     },
     "execution_count": 76,
     "metadata": {},
     "output_type": "execute_result"
    }
   ],
   "source": [
    "driver.get(url)\n",
    "ui.WebDriverWait(driver, 15).until(EC.visibility_of_all_elements_located((By.ID, 'ACCIDENT')))"
   ]
  },
  {
   "cell_type": "code",
   "execution_count": 77,
   "id": "eca9da15-860f-445c-b5fc-a4b72fa53406",
   "metadata": {},
   "outputs": [],
   "source": [
    "containers = driver.find_elements_by_id('accident-top')"
   ]
  },
  {
   "cell_type": "code",
   "execution_count": 78,
   "id": "f9ba26ec-4636-4de3-a6fc-dfb7f7cb5fa7",
   "metadata": {},
   "outputs": [],
   "source": [
    "for container in containers:\n",
    "    variables = container.text.split('\\n')\n",
    "    caseId = variables[1].split(':')\n",
    "    crashId = variables[2].split(':')"
   ]
  },
  {
   "cell_type": "code",
   "execution_count": 79,
   "id": "d0c94a5e-aa9d-40a1-8c87-939d454c3c00",
   "metadata": {},
   "outputs": [],
   "source": [
    "containers = driver.find_elements_by_id('accident-header')"
   ]
  },
  {
   "cell_type": "code",
   "execution_count": 80,
   "id": "28e40653-f10f-47ad-aa2c-004b745d750a",
   "metadata": {},
   "outputs": [],
   "source": [
    "for container in containers:\n",
    "    variables = container.text.split('\\n')\n",
    "    city = variables[1]\n",
    "    date = variables[3]\n",
    "    Police = variables[5]"
   ]
  },
  {
   "cell_type": "code",
   "execution_count": 81,
   "id": "d3612533-15e2-4260-b1de-bf8b1535b40f",
   "metadata": {},
   "outputs": [],
   "source": [
    "containers = driver.find_elements_by_id('conditions')"
   ]
  },
  {
   "cell_type": "code",
   "execution_count": 82,
   "id": "47db7e1e-6187-43b1-a131-15f21ae5f9ed",
   "metadata": {},
   "outputs": [],
   "source": [
    "for container in containers:\n",
    "    variables = container.text.split('\\n')\n",
    "    if variables[variables.index('Road & Traffic Conditions') + 1] == 'Weather':\n",
    "            variables.insert(variables.index('Road & Traffic Conditions') + 1, np.nan)\n",
    "    if variables[-1] == 'Weather':\n",
    "            variables.insert(variables.index('Weather')+1, np.nan)\n",
    "    trafficConditions = variables[variables.index('Road & Traffic Conditions') + 1]\n",
    "    weatherConditions = variables[variables.index('Weather') + 1]\n",
    "    \n",
    "    "
   ]
  },
  {
   "cell_type": "code",
   "execution_count": 83,
   "id": "fa4eed7b-a73c-4b0f-be21-b431f4835d3a",
   "metadata": {},
   "outputs": [],
   "source": [
    "containers = driver.find_elements_by_class_name('row')"
   ]
  },
  {
   "cell_type": "code",
   "execution_count": 84,
   "id": "fd29511a-ef0e-42b3-bd0b-229893df8207",
   "metadata": {},
   "outputs": [],
   "source": [
    "summary = containers[0].text.split('\\n')\n",
    "description = containers[1].text.split('\\n')  "
   ]
  },
  {
   "cell_type": "code",
   "execution_count": 85,
   "id": "02bf0939-e524-4d67-af53-a39160a052ac",
   "metadata": {},
   "outputs": [],
   "source": [
    "accident_factor = ''\n",
    "for i in range(len(summary)):\n",
    "    if i > 0 and i <= summary.index('Date & Time Of Crash'):\n",
    "        accident_factor += summary[i] + ' '\n",
    "speedlimit = summary[summary.index(\"Speed Limit\") + 1]\n",
    "accidentLocation = summary[-1]\n",
    "injuryNumber = summary[summary.index('Total Number of Injuries')-1]\n",
    "numberofVehicles = summary[summary.index('Total Number of Vehicles') -1]\n",
    "numberofOccupants = summary[summary.index('Total Number of Occupants')-1]"
   ]
  },
  {
   "cell_type": "code",
   "execution_count": 86,
   "id": "b61f3ef2-659a-4d61-9fef-80007946fcec",
   "metadata": {},
   "outputs": [],
   "source": [
    "containers = driver.find_elements_by_class_name('driver-vehicle')"
   ]
  },
  {
   "cell_type": "code",
   "execution_count": 87,
   "id": "43c262d0-4206-4fb2-9989-d69a1606b2a8",
   "metadata": {},
   "outputs": [],
   "source": [
    "for container in containers:\n",
    "         #(ignore compensation text box)'\n",
    "        if len(container.find_elements_by_class_name('at-fault')) == 0:\n",
    "            atFault = 0\n",
    "        else:\n",
    "            atFault = 1\n",
    "        variables = container.text.split('\\n')\n",
    "        if 'Based on' in variables[0] and 'Accident' in variables[1]:\n",
    "            variables.pop(0)\n",
    "            variables.pop(0)  \n",
    "        car = variables[0].split(',')\n",
    "        carColor = car[1]\n",
    "        if car[0] == '':\n",
    "            carMake = np.nan\n",
    "            carYear = np.nan\n",
    "        else:\n",
    "            makeYear = car[0].split('-')\n",
    "            carMake = makeYear[0]\n",
    "            carYear = makeYear[1]\n",
    "        #if the next index is the next key and not a value for the current key, then the value is missing, fill with nan\n",
    "        if variables[variables.index('Age') + 1] == 'Gender':\n",
    "            variables.insert(variables.index('Age') + 1, np.nan)\n",
    "        if variables[variables.index('Gender') + 1] == \"Ethnicity\":\n",
    "            variables.insert(variables.index('Gender')+1, np.nan)\n",
    "        if variables[variables.index('Ethnicity') + 1] == \"Residence Of\":\n",
    "            variables.insert(variables.index('Ethnicity')+1, np.nan)\n",
    "        if variables[variables.index('Residence Of') + 1] == \"Damage Area\":\n",
    "            variables.insert(variables.index('Residence Of')+1, np.nan)\n",
    "        if variables[variables.index('Damage Area') + 1] == \"Driver License Type\":\n",
    "            variables.insert(variables.index('Damage Area')+1, np.nan)\n",
    "        if variables[variables.index('Driver License Type') + 1] == \"Vehicle License State ID\":\n",
    "            variables.insert(variables.index('Driver License Type')+1, np.nan)\n",
    "            #if police did not get vin number, the incident was more than likely a hit and run, as no info from the car other car was gathered as well\n",
    "        if 'VIN' not in variables:\n",
    "            driverHitAndrun = 1\n",
    "            variables.insert(variables.index('Vehicle License State ID')+1, 'VIN') \n",
    "        else:\n",
    "            driverHitAndrun = 0\n",
    "        if variables[variables.index('Vehicle License State ID') + 1] == \"VIN\":\n",
    "            variables.insert(variables.index('Vehicle License State ID')+1, np.nan)\n",
    "        if variables[variables.index('VIN') + 1] == \"Insured\":\n",
    "            variables.insert(variables.index('VIN')+1, np.nan)\n",
    "        if variables[variables.index('Insured') + 1] == \"Towing Company\":\n",
    "            variables.insert(variables.index('VIN')+1, np.nan)\n",
    "        if variables[-1] == 'Towing Company':\n",
    "            variables.insert(variables.index('Towing Company')+1, np.nan)\n",
    "            \n",
    "        #now that the index lengths are uniform, we can assign the values\n",
    "        driverAge = variables[3]\n",
    "        driverGender = variables[5]\n",
    "        driverEthnicity = variables[7]\n",
    "        driverResidence = variables[9]\n",
    "        driverCarDamage = variables[11]\n",
    "        driverLicenseType = variables[13]\n",
    "        driverLicenseState = variables[15]\n",
    "        drivercarVIN = variables[17]\n",
    "        driverInsured = variables[19]\n",
    "        \n",
    "        #store all values into a dictionary here, all this information is one observation\n",
    "        dictionary = {'case_id': caseId[1], 'crash_id' : crashId[1], 'crash_city': city, 'crash_date':date, 'police_dept': Police, 'accident_factor': accident_factor, 'speed_limit' : speedlimit \\\n",
    "                      ,'crash_location': accidentLocation, 'num_of_injuries': injuryNumber, 'num_of_vehicles': numberofVehicles , 'num_of_occupants': numberofOccupants, 'at_fault' : atFault \\\n",
    "                      ,'hit_and_run': driverHitAndrun, 'car_make':carMake, 'car_year': carYear, 'car_color': carColor, 'driver_age':driverAge, 'driver_gender': driverGender, 'driver_ethnicity' : driverEthnicity \\\n",
    "                      ,'driver_residence': driverResidence,'driver_car_damage':driverCarDamage,'driver_license_type':driverLicenseType, 'driver_license_state': driverLicenseState, 'driver_insured': driverInsured }\n",
    "        \n",
    "        list_of_dicts.append(dictionary)"
   ]
  },
  {
   "cell_type": "code",
   "execution_count": 88,
   "id": "fab0de97-578d-4d73-9811-839ad7872c3d",
   "metadata": {},
   "outputs": [],
   "source": [
    "df = pd.DataFrame(list_of_dicts)"
   ]
  },
  {
   "cell_type": "code",
   "execution_count": 89,
   "id": "93544ad9-92a3-4b67-ba3c-8f533817ab68",
   "metadata": {},
   "outputs": [
    {
     "data": {
      "text/html": [
       "<div>\n",
       "<style scoped>\n",
       "    .dataframe tbody tr th:only-of-type {\n",
       "        vertical-align: middle;\n",
       "    }\n",
       "\n",
       "    .dataframe tbody tr th {\n",
       "        vertical-align: top;\n",
       "    }\n",
       "\n",
       "    .dataframe thead th {\n",
       "        text-align: right;\n",
       "    }\n",
       "</style>\n",
       "<table border=\"1\" class=\"dataframe\">\n",
       "  <thead>\n",
       "    <tr style=\"text-align: right;\">\n",
       "      <th></th>\n",
       "      <th>case_id</th>\n",
       "      <th>crash_id</th>\n",
       "      <th>crash_city</th>\n",
       "      <th>crash_date</th>\n",
       "      <th>police_dept</th>\n",
       "      <th>accident_factor</th>\n",
       "      <th>speed_limit</th>\n",
       "      <th>crash_location</th>\n",
       "      <th>num_of_injuries</th>\n",
       "      <th>num_of_vehicles</th>\n",
       "      <th>...</th>\n",
       "      <th>car_year</th>\n",
       "      <th>car_color</th>\n",
       "      <th>driver_age</th>\n",
       "      <th>driver_gender</th>\n",
       "      <th>driver_ethnicity</th>\n",
       "      <th>driver_residence</th>\n",
       "      <th>driver_car_damage</th>\n",
       "      <th>driver_license_type</th>\n",
       "      <th>driver_license_state</th>\n",
       "      <th>driver_insured</th>\n",
       "    </tr>\n",
       "  </thead>\n",
       "  <tbody>\n",
       "    <tr>\n",
       "      <th>0</th>\n",
       "      <td>SAPD19138777</td>\n",
       "      <td>17157155</td>\n",
       "      <td>SAN ANTONIO, TX</td>\n",
       "      <td>06/30/19 05:10 PM</td>\n",
       "      <td>SAN ANTONIO POLICE DEPARTMENT</td>\n",
       "      <td>The driver of 2005 GMC FOLLOWED TOO CLOSELY Da...</td>\n",
       "      <td>35 MPH</td>\n",
       "      <td>JACKSON KELLER RD 2216, San Antonio, Bexar, TX...</td>\n",
       "      <td>0</td>\n",
       "      <td>2</td>\n",
       "      <td>...</td>\n",
       "      <td>2005</td>\n",
       "      <td>Gray</td>\n",
       "      <td>18</td>\n",
       "      <td>Male</td>\n",
       "      <td>Hispanic</td>\n",
       "      <td>NaN</td>\n",
       "      <td>FC - FRONT END DAMAGE CONCENTRATED IMPACT</td>\n",
       "      <td>Id card, unlicensed</td>\n",
       "      <td>Texas</td>\n",
       "      <td>Yes</td>\n",
       "    </tr>\n",
       "    <tr>\n",
       "      <th>1</th>\n",
       "      <td>SAPD19138777</td>\n",
       "      <td>17157155</td>\n",
       "      <td>SAN ANTONIO, TX</td>\n",
       "      <td>06/30/19 05:10 PM</td>\n",
       "      <td>SAN ANTONIO POLICE DEPARTMENT</td>\n",
       "      <td>The driver of 2005 GMC FOLLOWED TOO CLOSELY Da...</td>\n",
       "      <td>35 MPH</td>\n",
       "      <td>JACKSON KELLER RD 2216, San Antonio, Bexar, TX...</td>\n",
       "      <td>0</td>\n",
       "      <td>2</td>\n",
       "      <td>...</td>\n",
       "      <td>2017</td>\n",
       "      <td>White</td>\n",
       "      <td>68</td>\n",
       "      <td>Female</td>\n",
       "      <td>Hispanic</td>\n",
       "      <td>NaN</td>\n",
       "      <td>BD - BACK END DAMAGE DISTRIBUTED IMPACT</td>\n",
       "      <td>Driver license, class c</td>\n",
       "      <td>Texas</td>\n",
       "      <td>Yes</td>\n",
       "    </tr>\n",
       "  </tbody>\n",
       "</table>\n",
       "<p>2 rows × 24 columns</p>\n",
       "</div>"
      ],
      "text/plain": [
       "         case_id   crash_id       crash_city         crash_date  \\\n",
       "0   SAPD19138777   17157155  SAN ANTONIO, TX  06/30/19 05:10 PM   \n",
       "1   SAPD19138777   17157155  SAN ANTONIO, TX  06/30/19 05:10 PM   \n",
       "\n",
       "                     police_dept  \\\n",
       "0  SAN ANTONIO POLICE DEPARTMENT   \n",
       "1  SAN ANTONIO POLICE DEPARTMENT   \n",
       "\n",
       "                                     accident_factor speed_limit  \\\n",
       "0  The driver of 2005 GMC FOLLOWED TOO CLOSELY Da...      35 MPH   \n",
       "1  The driver of 2005 GMC FOLLOWED TOO CLOSELY Da...      35 MPH   \n",
       "\n",
       "                                      crash_location num_of_injuries  \\\n",
       "0  JACKSON KELLER RD 2216, San Antonio, Bexar, TX...               0   \n",
       "1  JACKSON KELLER RD 2216, San Antonio, Bexar, TX...               0   \n",
       "\n",
       "  num_of_vehicles  ... car_year  car_color  driver_age driver_gender  \\\n",
       "0               2  ...     2005       Gray          18          Male   \n",
       "1               2  ...     2017      White          68        Female   \n",
       "\n",
       "  driver_ethnicity driver_residence  \\\n",
       "0         Hispanic              NaN   \n",
       "1         Hispanic              NaN   \n",
       "\n",
       "                           driver_car_damage      driver_license_type  \\\n",
       "0  FC - FRONT END DAMAGE CONCENTRATED IMPACT      Id card, unlicensed   \n",
       "1    BD - BACK END DAMAGE DISTRIBUTED IMPACT  Driver license, class c   \n",
       "\n",
       "  driver_license_state  driver_insured  \n",
       "0                Texas             Yes  \n",
       "1                Texas             Yes  \n",
       "\n",
       "[2 rows x 24 columns]"
      ]
     },
     "execution_count": 89,
     "metadata": {},
     "output_type": "execute_result"
    }
   ],
   "source": [
    "df"
   ]
  },
  {
   "cell_type": "code",
   "execution_count": 90,
   "id": "22730599-1aa4-4f05-a0d6-3beb6aa31ae4",
   "metadata": {},
   "outputs": [],
   "source": [
    "links = pd.read_csv('accident_links.csv')"
   ]
  },
  {
   "cell_type": "code",
   "execution_count": 91,
   "id": "8e7f4b1b-e8a8-44d5-858c-4e69f3c345be",
   "metadata": {},
   "outputs": [
    {
     "data": {
      "text/plain": [
       "(47380, 1)"
      ]
     },
     "execution_count": 91,
     "metadata": {},
     "output_type": "execute_result"
    }
   ],
   "source": [
    "links.shape"
   ]
  },
  {
   "cell_type": "code",
   "execution_count": 94,
   "id": "bbeca9a3-0e72-4259-9365-5c606616143e",
   "metadata": {},
   "outputs": [
    {
     "data": {
      "text/plain": [
       "(46785, 1)"
      ]
     },
     "execution_count": 94,
     "metadata": {},
     "output_type": "execute_result"
    }
   ],
   "source": [
    "links.drop_duplicates().shape"
   ]
  },
  {
   "cell_type": "code",
   "execution_count": 95,
   "id": "4e4389a1-ecb2-4d1c-86f6-f19fae7470bd",
   "metadata": {},
   "outputs": [],
   "source": [
    "driver.close()"
   ]
  },
  {
   "cell_type": "code",
   "execution_count": 93,
   "id": "7e863033-82ea-4015-a70f-3af4d252adcf",
   "metadata": {},
   "outputs": [],
   "source": [
    "#will drop duplicates as we itterate through each page and store the contents in anquire2.py"
   ]
  },
  {
   "cell_type": "code",
   "execution_count": 8,
   "id": "e5836b58-0816-4047-aee9-12f81c42a87b",
   "metadata": {},
   "outputs": [],
   "source": [
    "links = pd.read_csv('accident_links_continued.csv')"
   ]
  },
  {
   "cell_type": "code",
   "execution_count": 9,
   "id": "a5115ac5-9a1e-497f-8b0d-cc3aead8c99f",
   "metadata": {},
   "outputs": [],
   "source": [
    "links = links.iloc[1: , :]\n",
    "links.to_csv('accident_links_continued.csv',index=False)"
   ]
  },
  {
   "cell_type": "code",
   "execution_count": null,
   "id": "3352c293-7217-4b68-a26b-2b4baab8e721",
   "metadata": {},
   "outputs": [],
   "source": []
  }
 ],
 "metadata": {
  "kernelspec": {
   "display_name": "Python 3",
   "language": "python",
   "name": "python3"
  },
  "language_info": {
   "codemirror_mode": {
    "name": "ipython",
    "version": 3
   },
   "file_extension": ".py",
   "mimetype": "text/x-python",
   "name": "python",
   "nbconvert_exporter": "python",
   "pygments_lexer": "ipython3",
   "version": "3.8.10"
  }
 },
 "nbformat": 4,
 "nbformat_minor": 5
}
