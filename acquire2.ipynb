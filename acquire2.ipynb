{
 "cells": [
  {
   "cell_type": "code",
   "execution_count": 108,
   "id": "37d40f61-4091-4094-90ac-b8e26f1ddc5f",
   "metadata": {},
   "outputs": [],
   "source": [
    "import pandas as pd\n",
    "import numpy as np\n",
    "import re\n",
    "import requests \n",
    "from selenium import webdriver\n",
    "from selenium.webdriver.common.keys import Keys\n",
    "from selenium.common.exceptions import TimeoutException\n",
    "from selenium.webdriver.common.by import By\n",
    "import selenium.webdriver.support.ui as ui\n",
    "import selenium.webdriver.support.expected_conditions as EC\n",
    "import os\n",
    "import time\n",
    "import datetime"
   ]
  },
  {
   "cell_type": "code",
   "execution_count": 109,
   "id": "5135f6ef-334f-437a-903c-7aa2a682d77e",
   "metadata": {},
   "outputs": [],
   "source": [
    "options = webdriver.ChromeOptions()\n",
    "options.add_argument('--ignore-certificate-errors')\n",
    "options.add_argument('--ignore-ssl-errors')\n",
    "dir_path = os.path.dirname(os.path.realpath('chromedriver'))\n",
    "chromedriver = dir_path + '/chromedriver'\n",
    "os.environ['webdriver.chrome.driver'] = chromedriver"
   ]
  },
  {
   "cell_type": "code",
   "execution_count": 110,
   "id": "93610e57-9aae-4a49-9b75-3a7f2d957cdc",
   "metadata": {},
   "outputs": [],
   "source": [
    "links = pd.read_csv('accident_links.csv')"
   ]
  },
  {
   "cell_type": "code",
   "execution_count": 111,
   "id": "35ca10cf-0612-4281-85ef-5205ce5ae7f5",
   "metadata": {},
   "outputs": [],
   "source": [
    "driver = webdriver.Chrome(executable_path=chromedriver)"
   ]
  },
  {
   "cell_type": "code",
   "execution_count": 112,
   "id": "1bb76e5a-9384-41be-9a36-2524061b43a0",
   "metadata": {},
   "outputs": [
    {
     "data": {
      "text/plain": [
       "'https://app.myaccident.org/accident/00002818358218'"
      ]
     },
     "execution_count": 112,
     "metadata": {},
     "output_type": "execute_result"
    }
   ],
   "source": [
    "url = links.link[9]\n",
    "url\n"
   ]
  },
  {
   "cell_type": "code",
   "execution_count": 113,
   "id": "743dad5f-9dea-4351-8a04-9319082e3acc",
   "metadata": {},
   "outputs": [],
   "source": [
    "list_of_dicts = []"
   ]
  },
  {
   "cell_type": "code",
   "execution_count": 114,
   "id": "9f185366-47a1-440e-90cf-0efd3c656212",
   "metadata": {},
   "outputs": [
    {
     "data": {
      "text/plain": [
       "[<selenium.webdriver.remote.webelement.WebElement (session=\"c6edc8eaa37969e9d7d9bd60713d5492\", element=\"e159153d-9dc8-488a-89f8-ea1f03231120\")>]"
      ]
     },
     "execution_count": 114,
     "metadata": {},
     "output_type": "execute_result"
    }
   ],
   "source": [
    "driver.get(url)\n",
    "ui.WebDriverWait(driver, 15).until(EC.visibility_of_all_elements_located((By.ID, 'ACCIDENT')))"
   ]
  },
  {
   "cell_type": "code",
   "execution_count": 115,
   "id": "eca9da15-860f-445c-b5fc-a4b72fa53406",
   "metadata": {},
   "outputs": [],
   "source": [
    "containers = driver.find_elements_by_id('accident-top')"
   ]
  },
  {
   "cell_type": "code",
   "execution_count": 116,
   "id": "f9ba26ec-4636-4de3-a6fc-dfb7f7cb5fa7",
   "metadata": {},
   "outputs": [],
   "source": [
    "for container in containers:\n",
    "    variables = container.text.split('\\n')\n",
    "    caseId = variables[1].split(':')\n",
    "    crashId = variables[2].split(':')"
   ]
  },
  {
   "cell_type": "code",
   "execution_count": 117,
   "id": "d0c94a5e-aa9d-40a1-8c87-939d454c3c00",
   "metadata": {},
   "outputs": [],
   "source": [
    "containers = driver.find_elements_by_id('accident-header')"
   ]
  },
  {
   "cell_type": "code",
   "execution_count": 118,
   "id": "28e40653-f10f-47ad-aa2c-004b745d750a",
   "metadata": {},
   "outputs": [],
   "source": [
    "for container in containers:\n",
    "    variables = container.text.split('\\n')\n",
    "    city = variables[1]\n",
    "    date = variables[3]\n",
    "    Police = variables[5]"
   ]
  },
  {
   "cell_type": "code",
   "execution_count": 119,
   "id": "d3612533-15e2-4260-b1de-bf8b1535b40f",
   "metadata": {},
   "outputs": [],
   "source": [
    "containers = driver.find_elements_by_id('conditions')"
   ]
  },
  {
   "cell_type": "code",
   "execution_count": 120,
   "id": "47db7e1e-6187-43b1-a131-15f21ae5f9ed",
   "metadata": {},
   "outputs": [],
   "source": [
    "for container in containers:\n",
    "    variables = container.text.split('\\n')\n",
    "    if variables[variables.index('Road & Traffic Conditions') + 1] == 'Weather':\n",
    "            variables.insert(variables.index('Road & Traffic Conditions') + 1, np.nan)\n",
    "    if variables[-1] == 'Weather':\n",
    "            variables.insert(variables.index('Weather')+1, np.nan)\n",
    "    trafficConditions = variables[variables.index('Road & Traffic Conditions') + 1]\n",
    "    weatherConditions = variables[variables.index('Weather') + 1]\n",
    "    \n",
    "    "
   ]
  },
  {
   "cell_type": "code",
   "execution_count": 121,
   "id": "fa4eed7b-a73c-4b0f-be21-b431f4835d3a",
   "metadata": {},
   "outputs": [],
   "source": [
    "containers = driver.find_elements_by_class_name('row')"
   ]
  },
  {
   "cell_type": "code",
   "execution_count": 122,
   "id": "fd29511a-ef0e-42b3-bd0b-229893df8207",
   "metadata": {},
   "outputs": [],
   "source": [
    "summary = containers[0].text.split('\\n')\n",
    "description = containers[1].text.split('\\n')  "
   ]
  },
  {
   "cell_type": "code",
   "execution_count": 123,
   "id": "02bf0939-e524-4d67-af53-a39160a052ac",
   "metadata": {},
   "outputs": [],
   "source": [
    "accident_factor = ''\n",
    "for i in range(len(summary)):\n",
    "    if i > 0 and i <= summary.index('Date & Time Of Crash'):\n",
    "        accident_factor += summary[i] + ' '\n",
    "speedlimit = summary[summary.index(\"Speed Limit\") + 1]\n",
    "accidentLocation = summary[-1]\n",
    "injuryNumber = summary[summary.index('Total Number of Injuries')-1]\n",
    "numberofVehicles = summary[summary.index('Total Number of Vehicles') -1]\n",
    "numberofOccupants = summary[summary.index('Total Number of Occupants')-1]"
   ]
  },
  {
   "cell_type": "code",
   "execution_count": 124,
   "id": "b61f3ef2-659a-4d61-9fef-80007946fcec",
   "metadata": {},
   "outputs": [],
   "source": [
    "containers = driver.find_elements_by_class_name('driver-vehicle')"
   ]
  },
  {
   "cell_type": "code",
   "execution_count": 125,
   "id": "43c262d0-4206-4fb2-9989-d69a1606b2a8",
   "metadata": {},
   "outputs": [],
   "source": [
    "for container in containers:\n",
    "      #(ignore compensation text box)'\n",
    "        if len(container.find_elements_by_class_name('at-fault')) == 0:\n",
    "            atFault = 0\n",
    "        else:\n",
    "            atFault = 1\n",
    "        variables = container.text.split('\\n')\n",
    "        if 'Based on' in variables[0] and 'Accident' in variables[1]:\n",
    "            variables.pop(0)\n",
    "            variables.pop(0)  \n",
    "        #catch missing color\n",
    "        car = variables[0]\n",
    "        if ',' not in car:\n",
    "            carColor = np.nan\n",
    "            variables.insert(1, np.nan)\n",
    "        else:\n",
    "            car = variables[0].split(',')\n",
    "            carColor = car[1]\n",
    "        #catch missing car info\n",
    "        if car[0] == '':\n",
    "            carMake = np.nan\n",
    "            carYear = np.nan\n",
    "            variables.insert(0, np.nan)\n",
    "        else:\n",
    "            #catch missing year\n",
    "            if '-' not in car[0]:        \n",
    "                carMake = car[0]\n",
    "                carYear = np.nan\n",
    "            else:\n",
    "                makeYear = car[0].split('-')\n",
    "                carMake = makeYear[0]\n",
    "                carYear = makeYear[1]\n",
    "       \n",
    "        #if the next index is the next key and not a value for the current key, then the value is missing, fill with nan\n",
    "        if variables[variables.index('Age') + 1] == 'Gender':\n",
    "            variables.insert(variables.index('Age') + 1, np.nan)\n",
    "        if variables[variables.index('Gender') + 1] == \"Ethnicity\":\n",
    "            variables.insert(variables.index('Gender')+1, np.nan)\n",
    "        if variables[variables.index('Ethnicity') + 1] == \"Residence Of\":\n",
    "            variables.insert(variables.index('Ethnicity')+1, np.nan)\n",
    "        if variables[variables.index('Residence Of') + 1] == \"Damage Area\":\n",
    "            variables.insert(variables.index('Residence Of')+1, np.nan)\n",
    "        if variables[variables.index('Damage Area') + 1] == \"Driver License Type\":\n",
    "            variables.insert(variables.index('Damage Area')+1, np.nan)\n",
    "        if variables[variables.index('Driver License Type') + 1] == \"Vehicle License State ID\":\n",
    "            variables.insert(variables.index('Driver License Type')+1, np.nan)\n",
    "            #if police did not get vin number, the incident was more than likely a hit and run, as no info from the car other car was gathered as well\n",
    "        if 'VIN' not in variables:\n",
    "            driverHitAndrun = 1\n",
    "            variables.insert(variables.index('Vehicle License State ID')+1, 'VIN') \n",
    "        else:\n",
    "            driverHitAndrun = 0\n",
    "        if variables[variables.index('Vehicle License State ID') + 1] == \"VIN\":\n",
    "            variables.insert(variables.index('Vehicle License State ID')+1, np.nan)\n",
    "        if variables[variables.index('VIN') + 1] == \"Insured\":\n",
    "            variables.insert(variables.index('VIN')+1, np.nan)\n",
    "        if variables[variables.index('Insured') + 1] == \"Towing Company\":\n",
    "            variables.insert(variables.index('VIN')+1, np.nan)\n",
    "        if variables[-1] == 'Towing Company':\n",
    "            variables.insert(variables.index('Towing Company')+1, np.nan)\n",
    "            \n",
    "        #now that the index lengths are uniform, we can assign the values\n",
    "        driverAge = variables[variables.index('Age') + 1]\n",
    "        driverGender = variables[variables.index('Gender') + 1]\n",
    "        driverEthnicity = variables[variables.index('Ethnicity') + 1]\n",
    "        driverResidence = variables[variables.index('Residence Of') + 1]\n",
    "        driverCarDamage = variables[variables.index('Damage Area') + 1]\n",
    "        driverLicenseType = variables[variables.index('Driver License Type') + 1]\n",
    "        driverLicenseState = variables[variables.index('Vehicle License State ID') + 1]\n",
    "        drivercarVIN = variables[variables.index('VIN') + 1]\n",
    "        driverInsured = variables[variables.index('Insured') + 1]\n",
    "        \n",
    "\n",
    "        \n",
    "        #store all values into a dictionary here, all this information is one observation\n",
    "        dictionary = {'case_id': caseId[1], 'crash_id' : crashId[1], 'crash_city': city, 'crash_date':date, 'police_dept': Police, 'accident_factor': accident_factor, 'speed_limit' : speedlimit \\\n",
    "                      ,'crash_location': accidentLocation, 'num_of_injuries': injuryNumber, 'num_of_vehicles': numberofVehicles , 'num_of_occupants': numberofOccupants, 'at_fault' : atFault \\\n",
    "                      ,'hit_and_run': driverHitAndrun, 'car_make':carMake, 'car_year': carYear, 'car_color': carColor, 'driver_age':driverAge, 'driver_gender': driverGender, 'driver_ethnicity' : driverEthnicity \\\n",
    "                      ,'driver_residence': driverResidence,'driver_car_damage':driverCarDamage,'driver_license_type':driverLicenseType, 'driver_license_state': driverLicenseState, 'driver_insured': driverInsured }\n",
    "        \n",
    "        list_of_dicts.append(dictionary)"
   ]
  },
  {
   "cell_type": "code",
   "execution_count": 126,
   "id": "fab0de97-578d-4d73-9811-839ad7872c3d",
   "metadata": {},
   "outputs": [],
   "source": [
    "df = pd.DataFrame(list_of_dicts)"
   ]
  },
  {
   "cell_type": "code",
   "execution_count": null,
   "id": "93544ad9-92a3-4b67-ba3c-8f533817ab68",
   "metadata": {},
   "outputs": [],
   "source": []
  },
  {
   "cell_type": "code",
   "execution_count": 175,
   "id": "1ab42dd6-92d7-4af8-a2f7-fead5bbda64f",
   "metadata": {},
   "outputs": [],
   "source": [
    "containers = driver.find_element_by_tag_name('table').find_elements_by_tag_name('td')"
   ]
  },
  {
   "cell_type": "code",
   "execution_count": 179,
   "id": "1f58a97f-5fa2-4763-9d2f-80560b256949",
   "metadata": {},
   "outputs": [
    {
     "name": "stdout",
     "output_type": "stream",
     "text": [
      "[]\n",
      "[]\n"
     ]
    }
   ],
   "source": [
    "for i in range(len(list_of_dicts)):\n",
    "    print(containers)"
   ]
  },
  {
   "cell_type": "code",
   "execution_count": 62,
   "id": "22730599-1aa4-4f05-a0d6-3beb6aa31ae4",
   "metadata": {},
   "outputs": [],
   "source": [
    "links = pd.read_csv('accident_links.csv')"
   ]
  },
  {
   "cell_type": "code",
   "execution_count": 63,
   "id": "8e7f4b1b-e8a8-44d5-858c-4e69f3c345be",
   "metadata": {},
   "outputs": [
    {
     "data": {
      "text/plain": [
       "(3735, 1)"
      ]
     },
     "execution_count": 63,
     "metadata": {},
     "output_type": "execute_result"
    }
   ],
   "source": [
    "links.shape"
   ]
  },
  {
   "cell_type": "code",
   "execution_count": 64,
   "id": "bbeca9a3-0e72-4259-9365-5c606616143e",
   "metadata": {},
   "outputs": [
    {
     "data": {
      "text/plain": [
       "(3735, 1)"
      ]
     },
     "execution_count": 64,
     "metadata": {},
     "output_type": "execute_result"
    }
   ],
   "source": [
    "links.drop_duplicates().shape"
   ]
  },
  {
   "cell_type": "code",
   "execution_count": 65,
   "id": "4e4389a1-ecb2-4d1c-86f6-f19fae7470bd",
   "metadata": {},
   "outputs": [
    {
     "ename": "NoSuchWindowException",
     "evalue": "Message: no such window: target window already closed\nfrom unknown error: web view not found\n  (Session info: chrome=92.0.4515.131)\n",
     "output_type": "error",
     "traceback": [
      "\u001b[0;31m---------------------------------------------------------------------------\u001b[0m",
      "\u001b[0;31mNoSuchWindowException\u001b[0m                     Traceback (most recent call last)",
      "\u001b[0;32m<ipython-input-65-ad0c9a213c39>\u001b[0m in \u001b[0;36m<module>\u001b[0;34m\u001b[0m\n\u001b[0;32m----> 1\u001b[0;31m \u001b[0mdriver\u001b[0m\u001b[0;34m.\u001b[0m\u001b[0mclose\u001b[0m\u001b[0;34m(\u001b[0m\u001b[0;34m)\u001b[0m\u001b[0;34m\u001b[0m\u001b[0;34m\u001b[0m\u001b[0m\n\u001b[0m",
      "\u001b[0;32m/opt/homebrew/anaconda3/lib/python3.8/site-packages/selenium/webdriver/remote/webdriver.py\u001b[0m in \u001b[0;36mclose\u001b[0;34m(self)\u001b[0m\n\u001b[1;32m    686\u001b[0m             \u001b[0mdriver\u001b[0m\u001b[0;34m.\u001b[0m\u001b[0mclose\u001b[0m\u001b[0;34m(\u001b[0m\u001b[0;34m)\u001b[0m\u001b[0;34m\u001b[0m\u001b[0;34m\u001b[0m\u001b[0m\n\u001b[1;32m    687\u001b[0m         \"\"\"\n\u001b[0;32m--> 688\u001b[0;31m         \u001b[0mself\u001b[0m\u001b[0;34m.\u001b[0m\u001b[0mexecute\u001b[0m\u001b[0;34m(\u001b[0m\u001b[0mCommand\u001b[0m\u001b[0;34m.\u001b[0m\u001b[0mCLOSE\u001b[0m\u001b[0;34m)\u001b[0m\u001b[0;34m\u001b[0m\u001b[0;34m\u001b[0m\u001b[0m\n\u001b[0m\u001b[1;32m    689\u001b[0m \u001b[0;34m\u001b[0m\u001b[0m\n\u001b[1;32m    690\u001b[0m     \u001b[0;32mdef\u001b[0m \u001b[0mquit\u001b[0m\u001b[0;34m(\u001b[0m\u001b[0mself\u001b[0m\u001b[0;34m)\u001b[0m\u001b[0;34m:\u001b[0m\u001b[0;34m\u001b[0m\u001b[0;34m\u001b[0m\u001b[0m\n",
      "\u001b[0;32m/opt/homebrew/anaconda3/lib/python3.8/site-packages/selenium/webdriver/remote/webdriver.py\u001b[0m in \u001b[0;36mexecute\u001b[0;34m(self, driver_command, params)\u001b[0m\n\u001b[1;32m    319\u001b[0m         \u001b[0mresponse\u001b[0m \u001b[0;34m=\u001b[0m \u001b[0mself\u001b[0m\u001b[0;34m.\u001b[0m\u001b[0mcommand_executor\u001b[0m\u001b[0;34m.\u001b[0m\u001b[0mexecute\u001b[0m\u001b[0;34m(\u001b[0m\u001b[0mdriver_command\u001b[0m\u001b[0;34m,\u001b[0m \u001b[0mparams\u001b[0m\u001b[0;34m)\u001b[0m\u001b[0;34m\u001b[0m\u001b[0;34m\u001b[0m\u001b[0m\n\u001b[1;32m    320\u001b[0m         \u001b[0;32mif\u001b[0m \u001b[0mresponse\u001b[0m\u001b[0;34m:\u001b[0m\u001b[0;34m\u001b[0m\u001b[0;34m\u001b[0m\u001b[0m\n\u001b[0;32m--> 321\u001b[0;31m             \u001b[0mself\u001b[0m\u001b[0;34m.\u001b[0m\u001b[0merror_handler\u001b[0m\u001b[0;34m.\u001b[0m\u001b[0mcheck_response\u001b[0m\u001b[0;34m(\u001b[0m\u001b[0mresponse\u001b[0m\u001b[0;34m)\u001b[0m\u001b[0;34m\u001b[0m\u001b[0;34m\u001b[0m\u001b[0m\n\u001b[0m\u001b[1;32m    322\u001b[0m             response['value'] = self._unwrap_value(\n\u001b[1;32m    323\u001b[0m                 response.get('value', None))\n",
      "\u001b[0;32m/opt/homebrew/anaconda3/lib/python3.8/site-packages/selenium/webdriver/remote/errorhandler.py\u001b[0m in \u001b[0;36mcheck_response\u001b[0;34m(self, response)\u001b[0m\n\u001b[1;32m    240\u001b[0m                 \u001b[0malert_text\u001b[0m \u001b[0;34m=\u001b[0m \u001b[0mvalue\u001b[0m\u001b[0;34m[\u001b[0m\u001b[0;34m'alert'\u001b[0m\u001b[0;34m]\u001b[0m\u001b[0;34m.\u001b[0m\u001b[0mget\u001b[0m\u001b[0;34m(\u001b[0m\u001b[0;34m'text'\u001b[0m\u001b[0;34m)\u001b[0m\u001b[0;34m\u001b[0m\u001b[0;34m\u001b[0m\u001b[0m\n\u001b[1;32m    241\u001b[0m             \u001b[0;32mraise\u001b[0m \u001b[0mexception_class\u001b[0m\u001b[0;34m(\u001b[0m\u001b[0mmessage\u001b[0m\u001b[0;34m,\u001b[0m \u001b[0mscreen\u001b[0m\u001b[0;34m,\u001b[0m \u001b[0mstacktrace\u001b[0m\u001b[0;34m,\u001b[0m \u001b[0malert_text\u001b[0m\u001b[0;34m)\u001b[0m\u001b[0;34m\u001b[0m\u001b[0;34m\u001b[0m\u001b[0m\n\u001b[0;32m--> 242\u001b[0;31m         \u001b[0;32mraise\u001b[0m \u001b[0mexception_class\u001b[0m\u001b[0;34m(\u001b[0m\u001b[0mmessage\u001b[0m\u001b[0;34m,\u001b[0m \u001b[0mscreen\u001b[0m\u001b[0;34m,\u001b[0m \u001b[0mstacktrace\u001b[0m\u001b[0;34m)\u001b[0m\u001b[0;34m\u001b[0m\u001b[0;34m\u001b[0m\u001b[0m\n\u001b[0m\u001b[1;32m    243\u001b[0m \u001b[0;34m\u001b[0m\u001b[0m\n\u001b[1;32m    244\u001b[0m     \u001b[0;32mdef\u001b[0m \u001b[0m_value_or_default\u001b[0m\u001b[0;34m(\u001b[0m\u001b[0mself\u001b[0m\u001b[0;34m,\u001b[0m \u001b[0mobj\u001b[0m\u001b[0;34m,\u001b[0m \u001b[0mkey\u001b[0m\u001b[0;34m,\u001b[0m \u001b[0mdefault\u001b[0m\u001b[0;34m)\u001b[0m\u001b[0;34m:\u001b[0m\u001b[0;34m\u001b[0m\u001b[0;34m\u001b[0m\u001b[0m\n",
      "\u001b[0;31mNoSuchWindowException\u001b[0m: Message: no such window: target window already closed\nfrom unknown error: web view not found\n  (Session info: chrome=92.0.4515.131)\n"
     ]
    }
   ],
   "source": [
    "driver.close()"
   ]
  },
  {
   "cell_type": "code",
   "execution_count": 33,
   "id": "7e863033-82ea-4015-a70f-3af4d252adcf",
   "metadata": {},
   "outputs": [],
   "source": [
    "#will drop duplicates as we itterate through each page and store the contents in anquire2.py"
   ]
  },
  {
   "cell_type": "code",
   "execution_count": 185,
   "id": "e5836b58-0816-4047-aee9-12f81c42a87b",
   "metadata": {},
   "outputs": [],
   "source": [
    "links = pd.read_csv('accident_links_continued.csv')"
   ]
  },
  {
   "cell_type": "code",
   "execution_count": 186,
   "id": "a5115ac5-9a1e-497f-8b0d-cc3aead8c99f",
   "metadata": {},
   "outputs": [],
   "source": [
    "links = links.iloc[1: , :]\n",
    "links.to_csv('accident_links_continued.csv',index=False)"
   ]
  },
  {
   "cell_type": "code",
   "execution_count": null,
   "id": "3352c293-7217-4b68-a26b-2b4baab8e721",
   "metadata": {},
   "outputs": [],
   "source": []
  },
  {
   "cell_type": "code",
   "execution_count": null,
   "id": "1a3a2630-e312-4510-b36f-14ea4cd47859",
   "metadata": {},
   "outputs": [],
   "source": []
  }
 ],
 "metadata": {
  "kernelspec": {
   "display_name": "Python 3",
   "language": "python",
   "name": "python3"
  },
  "language_info": {
   "codemirror_mode": {
    "name": "ipython",
    "version": 3
   },
   "file_extension": ".py",
   "mimetype": "text/x-python",
   "name": "python",
   "nbconvert_exporter": "python",
   "pygments_lexer": "ipython3",
   "version": "3.8.10"
  }
 },
 "nbformat": 4,
 "nbformat_minor": 5
}
