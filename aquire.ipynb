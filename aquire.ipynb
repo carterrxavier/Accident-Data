{
 "cells": [
  {
   "cell_type": "code",
   "execution_count": 1,
   "id": "31189463-7bcd-4ed4-b013-3b283ca640f3",
   "metadata": {},
   "outputs": [],
   "source": [
    "import pandas as pd\n",
    "import numpy as np\n",
    "import re\n",
    "import requests \n",
    "from selenium import webdriver\n",
    "from selenium.webdriver.common.keys import Keys\n",
    "from selenium.common.exceptions import TimeoutException\n",
    "from selenium.webdriver.common.by import By\n",
    "import selenium.webdriver.support.ui as ui\n",
    "import selenium.webdriver.support.expected_conditions as EC\n",
    "import os\n",
    "import time\n",
    "import datetime"
   ]
  },
  {
   "cell_type": "code",
   "execution_count": 2,
   "id": "c013b5b0-3328-42e1-bfec-e28836e79b21",
   "metadata": {},
   "outputs": [],
   "source": [
    "options = webdriver.ChromeOptions()\n",
    "options.add_argument('--ignore-certificate-errors')\n",
    "options.add_argument('--ignore-ssl-errors')\n",
    "dir_path = os.path.dirname(os.path.realpath('chromedriver'))\n",
    "chromedriver = dir_path + '/chromedriver'\n",
    "os.environ['webdriver.chrome.driver'] = chromedriver\n",
    "driver = webdriver.Chrome(executable_path=chromedriver)\n",
    "url = 'https://app.myaccident.org/results?startDate=2021-07-15&endDate=2021-07-16&lat=29.410489385788157&lng=-98.47068431884783&radius=16903'"
   ]
  },
  {
   "cell_type": "code",
   "execution_count": 3,
   "id": "1e49b98f-d645-4f24-91ce-b4d05d155bc7",
   "metadata": {},
   "outputs": [],
   "source": [
    "driver.get(url)\n",
    "ui.WebDriverWait(driver, 15).until(EC.visibility_of_all_elements_located((By.ID, 'root')))\n",
    "time.sleep(10)"
   ]
  },
  {
   "cell_type": "code",
   "execution_count": 4,
   "id": "b5f1a3d6-7d4f-4e6a-970e-1badd4aeee67",
   "metadata": {},
   "outputs": [],
   "source": [
    "accident_list = []\n",
    "elems = driver.find_elements_by_xpath(\"//a[@href]\")\n",
    "for elem in elems:\n",
    "    if '/accident/' in elem.get_attribute(\"href\") and 'undefined' not in elem.get_attribute(\"href\"):\n",
    "        accident_list.append(elem.get_attribute(\"href\"))"
   ]
  },
  {
   "cell_type": "code",
   "execution_count": 5,
   "id": "7a3297eb-ce36-4c20-876d-4b85f1a8bec5",
   "metadata": {},
   "outputs": [
    {
     "data": {
      "text/plain": [
       "['https://app.myaccident.org/accident/00002818368205',\n",
       " 'https://app.myaccident.org/accident/00002818368838',\n",
       " 'https://app.myaccident.org/accident/00002818378272',\n",
       " 'https://app.myaccident.org/accident/00002818369461',\n",
       " 'https://app.myaccident.org/accident/00002818370952',\n",
       " 'https://app.myaccident.org/accident/00002818368672',\n",
       " 'https://app.myaccident.org/accident/00002818367261',\n",
       " 'https://app.myaccident.org/accident/00002818368213',\n",
       " 'https://app.myaccident.org/accident/00002818368457',\n",
       " 'https://app.myaccident.org/accident/00002818373317']"
      ]
     },
     "execution_count": 5,
     "metadata": {},
     "output_type": "execute_result"
    }
   ],
   "source": [
    "accident_list[:10]"
   ]
  },
  {
   "cell_type": "code",
   "execution_count": 6,
   "id": "b33d2a2a-fd7e-4892-bbcc-d7db4ded9bd8",
   "metadata": {},
   "outputs": [],
   "source": [
    "driver.close()"
   ]
  },
  {
   "cell_type": "code",
   "execution_count": 7,
   "id": "46776d69-9018-4ceb-9725-45ffcf1802cd",
   "metadata": {},
   "outputs": [],
   "source": [
    "numdays = 188\n",
    "base = datetime.datetime.today()\n",
    "date_list = [base - datetime.timedelta(days=x) for x in range(numdays)]\n",
    "date_list.sort(reverse=False)"
   ]
  },
  {
   "cell_type": "code",
   "execution_count": 8,
   "id": "595b8a9c-0280-41ad-ba67-9cb339fcb0a8",
   "metadata": {},
   "outputs": [],
   "source": [
    "date = 0\n",
    "month_periods = []\n",
    "for i in range(6):\n",
    "    month_periods.append(str(date_list[date].year) + '-'+  str(date_list[date].month) + '-' + str(date_list[date].day))\n",
    "    date += 29"
   ]
  },
  {
   "cell_type": "code",
   "execution_count": 9,
   "id": "9cdab3e0-055a-4f6a-8e62-d2fbbeeacf47",
   "metadata": {},
   "outputs": [
    {
     "data": {
      "text/plain": [
       "['2021-2-2', '2021-3-3', '2021-4-1', '2021-4-30', '2021-5-29', '2021-6-27']"
      ]
     },
     "execution_count": 9,
     "metadata": {},
     "output_type": "execute_result"
    }
   ],
   "source": [
    "month_periods"
   ]
  },
  {
   "cell_type": "code",
   "execution_count": 10,
   "id": "de002133-bbff-4d79-94e1-c2c8d57ab16b",
   "metadata": {},
   "outputs": [],
   "source": [
    "#will be replacated in a loop using the above dates as start date and end date perameters. in acquire.py"
   ]
  },
  {
   "cell_type": "code",
   "execution_count": 12,
   "id": "f3b1442b-dede-4a0c-b777-77f34a052514",
   "metadata": {},
   "outputs": [],
   "source": [
    "links = pd.read_csv('accident_links.csv')"
   ]
  },
  {
   "cell_type": "code",
   "execution_count": 13,
   "id": "6a9eb32d-d6b0-4a4b-bf75-026b346b60d4",
   "metadata": {},
   "outputs": [
    {
     "data": {
      "text/html": [
       "<div>\n",
       "<style scoped>\n",
       "    .dataframe tbody tr th:only-of-type {\n",
       "        vertical-align: middle;\n",
       "    }\n",
       "\n",
       "    .dataframe tbody tr th {\n",
       "        vertical-align: top;\n",
       "    }\n",
       "\n",
       "    .dataframe thead th {\n",
       "        text-align: right;\n",
       "    }\n",
       "</style>\n",
       "<table border=\"1\" class=\"dataframe\">\n",
       "  <thead>\n",
       "    <tr style=\"text-align: right;\">\n",
       "      <th></th>\n",
       "      <th>link</th>\n",
       "    </tr>\n",
       "  </thead>\n",
       "  <tbody>\n",
       "    <tr>\n",
       "      <th>0</th>\n",
       "      <td>https://app.myaccident.org/accident/0000281813...</td>\n",
       "    </tr>\n",
       "    <tr>\n",
       "      <th>1</th>\n",
       "      <td>https://app.myaccident.org/accident/0000281813...</td>\n",
       "    </tr>\n",
       "    <tr>\n",
       "      <th>2</th>\n",
       "      <td>https://app.myaccident.org/accident/0000281813...</td>\n",
       "    </tr>\n",
       "    <tr>\n",
       "      <th>3</th>\n",
       "      <td>https://app.myaccident.org/accident/0000281813...</td>\n",
       "    </tr>\n",
       "    <tr>\n",
       "      <th>4</th>\n",
       "      <td>https://app.myaccident.org/accident/0000281813...</td>\n",
       "    </tr>\n",
       "    <tr>\n",
       "      <th>...</th>\n",
       "      <td>...</td>\n",
       "    </tr>\n",
       "    <tr>\n",
       "      <th>16617</th>\n",
       "      <td>https://app.myaccident.org/accident/0000281828...</td>\n",
       "    </tr>\n",
       "    <tr>\n",
       "      <th>16618</th>\n",
       "      <td>https://app.myaccident.org/accident/0000281829...</td>\n",
       "    </tr>\n",
       "    <tr>\n",
       "      <th>16619</th>\n",
       "      <td>https://app.myaccident.org/accident/0000281828...</td>\n",
       "    </tr>\n",
       "    <tr>\n",
       "      <th>16620</th>\n",
       "      <td>https://app.myaccident.org/accident/0000281828...</td>\n",
       "    </tr>\n",
       "    <tr>\n",
       "      <th>16621</th>\n",
       "      <td>https://app.myaccident.org/accident/0000281828...</td>\n",
       "    </tr>\n",
       "  </tbody>\n",
       "</table>\n",
       "<p>16622 rows × 1 columns</p>\n",
       "</div>"
      ],
      "text/plain": [
       "                                                    link\n",
       "0      https://app.myaccident.org/accident/0000281813...\n",
       "1      https://app.myaccident.org/accident/0000281813...\n",
       "2      https://app.myaccident.org/accident/0000281813...\n",
       "3      https://app.myaccident.org/accident/0000281813...\n",
       "4      https://app.myaccident.org/accident/0000281813...\n",
       "...                                                  ...\n",
       "16617  https://app.myaccident.org/accident/0000281828...\n",
       "16618  https://app.myaccident.org/accident/0000281829...\n",
       "16619  https://app.myaccident.org/accident/0000281828...\n",
       "16620  https://app.myaccident.org/accident/0000281828...\n",
       "16621  https://app.myaccident.org/accident/0000281828...\n",
       "\n",
       "[16622 rows x 1 columns]"
      ]
     },
     "execution_count": 13,
     "metadata": {},
     "output_type": "execute_result"
    }
   ],
   "source": [
    "links"
   ]
  },
  {
   "cell_type": "code",
   "execution_count": null,
   "id": "0f5bf1f6-9e2e-4cc7-862b-6107f85cc277",
   "metadata": {},
   "outputs": [],
   "source": []
  },
  {
   "cell_type": "code",
   "execution_count": null,
   "id": "570defa7-96e6-4b74-bb6d-5538ff5f4a78",
   "metadata": {},
   "outputs": [],
   "source": []
  }
 ],
 "metadata": {
  "kernelspec": {
   "display_name": "Python 3",
   "language": "python",
   "name": "python3"
  },
  "language_info": {
   "codemirror_mode": {
    "name": "ipython",
    "version": 3
   },
   "file_extension": ".py",
   "mimetype": "text/x-python",
   "name": "python",
   "nbconvert_exporter": "python",
   "pygments_lexer": "ipython3",
   "version": "3.8.10"
  }
 },
 "nbformat": 4,
 "nbformat_minor": 5
}
