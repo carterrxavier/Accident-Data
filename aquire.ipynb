{
 "cells": [
  {
   "cell_type": "code",
   "execution_count": 1,
   "id": "31189463-7bcd-4ed4-b013-3b283ca640f3",
   "metadata": {},
   "outputs": [],
   "source": [
    "import pandas as pd\n",
    "import numpy as np\n",
    "import re\n",
    "import requests \n",
    "from selenium import webdriver\n",
    "from selenium.webdriver.common.keys import Keys\n",
    "from selenium.common.exceptions import TimeoutException\n",
    "from selenium.webdriver.common.by import By\n",
    "import selenium.webdriver.support.ui as ui\n",
    "import selenium.webdriver.support.expected_conditions as EC\n",
    "import os\n",
    "import time\n",
    "import datetime"
   ]
  },
  {
   "cell_type": "code",
   "execution_count": 2,
   "id": "c013b5b0-3328-42e1-bfec-e28836e79b21",
   "metadata": {},
   "outputs": [],
   "source": [
    "options = webdriver.ChromeOptions()\n",
    "options.add_argument('--ignore-certificate-errors')\n",
    "options.add_argument('--ignore-ssl-errors')\n",
    "dir_path = os.path.dirname(os.path.realpath('chromedriver'))\n",
    "chromedriver = dir_path + '/chromedriver'\n",
    "os.environ['webdriver.chrome.driver'] = chromedriver\n",
    "driver = webdriver.Chrome(executable_path=chromedriver)\n",
    "url = 'https://app.myaccident.org/results?startDate=2021-07-15&endDate=2021-07-20&lat=29.410489385788157&lng=-98.47068431884783&radius=16903'"
   ]
  },
  {
   "cell_type": "code",
   "execution_count": 3,
   "id": "1e49b98f-d645-4f24-91ce-b4d05d155bc7",
   "metadata": {},
   "outputs": [],
   "source": [
    "driver.get(url)\n",
    "ui.WebDriverWait(driver, 15).until(EC.visibility_of_all_elements_located((By.ID, 'root')))\n",
    "time.sleep(10)"
   ]
  },
  {
   "cell_type": "code",
   "execution_count": 4,
   "id": "b5f1a3d6-7d4f-4e6a-970e-1badd4aeee67",
   "metadata": {},
   "outputs": [],
   "source": [
    "accident_list = []\n",
    "elems = driver.find_elements_by_xpath(\"//a[@href]\")\n",
    "for elem in elems:\n",
    "    if '/accident/' in elem.get_attribute(\"href\") and 'undefined' not in elem.get_attribute(\"href\"):\n",
    "        accident_list.append(elem.get_attribute(\"href\"))"
   ]
  },
  {
   "cell_type": "code",
   "execution_count": 5,
   "id": "7a3297eb-ce36-4c20-876d-4b85f1a8bec5",
   "metadata": {},
   "outputs": [
    {
     "data": {
      "text/plain": [
       "['https://app.myaccident.org/accident/00002818376219',\n",
       " 'https://app.myaccident.org/accident/00002818380745',\n",
       " 'https://app.myaccident.org/accident/00002818387037',\n",
       " 'https://app.myaccident.org/accident/00002818374485',\n",
       " 'https://app.myaccident.org/accident/00002818372990',\n",
       " 'https://app.myaccident.org/accident/00002818374912',\n",
       " 'https://app.myaccident.org/accident/00002818380744',\n",
       " 'https://app.myaccident.org/accident/00002818379228',\n",
       " 'https://app.myaccident.org/accident/00002818380746',\n",
       " 'https://app.myaccident.org/accident/00002818396250']"
      ]
     },
     "execution_count": 5,
     "metadata": {},
     "output_type": "execute_result"
    }
   ],
   "source": [
    "accident_list[:10]"
   ]
  },
  {
   "cell_type": "code",
   "execution_count": 6,
   "id": "b33d2a2a-fd7e-4892-bbcc-d7db4ded9bd8",
   "metadata": {},
   "outputs": [],
   "source": [
    "driver.close()"
   ]
  },
  {
   "cell_type": "code",
   "execution_count": 7,
   "id": "46776d69-9018-4ceb-9725-45ffcf1802cd",
   "metadata": {},
   "outputs": [],
   "source": [
    "numdays = 791\n",
    "base = datetime.datetime.today()\n",
    "date_list = [base - datetime.timedelta(days=x) for x in range(numdays)]\n",
    "date_list.sort(reverse=False)"
   ]
  },
  {
   "cell_type": "code",
   "execution_count": 8,
   "id": "595b8a9c-0280-41ad-ba67-9cb339fcb0a8",
   "metadata": {},
   "outputs": [],
   "source": [
    "date = 0\n",
    "month_periods = []\n",
    "for i in range(28):\n",
    "    month_periods.append(str(date_list[date].year) + '-'+  str(date_list[date].month) + '-' + str(date_list[date].day))\n",
    "    date += 29"
   ]
  },
  {
   "cell_type": "code",
   "execution_count": 9,
   "id": "da3668be-e26c-4636-8835-2d6a4decf8ab",
   "metadata": {},
   "outputs": [
    {
     "data": {
      "text/plain": [
       "['2019-6-9',\n",
       " '2019-7-8',\n",
       " '2019-8-6',\n",
       " '2019-9-4',\n",
       " '2019-10-3',\n",
       " '2019-11-1',\n",
       " '2019-11-30',\n",
       " '2019-12-29',\n",
       " '2020-1-27',\n",
       " '2020-2-25',\n",
       " '2020-3-25',\n",
       " '2020-4-23',\n",
       " '2020-5-22',\n",
       " '2020-6-20',\n",
       " '2020-7-19',\n",
       " '2020-8-17',\n",
       " '2020-9-15',\n",
       " '2020-10-14',\n",
       " '2020-11-12',\n",
       " '2020-12-11',\n",
       " '2021-1-9',\n",
       " '2021-2-7',\n",
       " '2021-3-8',\n",
       " '2021-4-6',\n",
       " '2021-5-5',\n",
       " '2021-6-3',\n",
       " '2021-7-2',\n",
       " '2021-7-31']"
      ]
     },
     "execution_count": 9,
     "metadata": {},
     "output_type": "execute_result"
    }
   ],
   "source": [
    "month_periods"
   ]
  },
  {
   "cell_type": "code",
   "execution_count": null,
   "id": "de002133-bbff-4d79-94e1-c2c8d57ab16b",
   "metadata": {},
   "outputs": [],
   "source": [
    "#will be replacated in a loop using the above dates as start date and end date perameters. in acquire.py"
   ]
  }
 ],
 "metadata": {
  "kernelspec": {
   "display_name": "Python 3",
   "language": "python",
   "name": "python3"
  },
  "language_info": {
   "codemirror_mode": {
    "name": "ipython",
    "version": 3
   },
   "file_extension": ".py",
   "mimetype": "text/x-python",
   "name": "python",
   "nbconvert_exporter": "python",
   "pygments_lexer": "ipython3",
   "version": "3.8.10"
  }
 },
 "nbformat": 4,
 "nbformat_minor": 5
}
